{
 "cells": [
  {
   "cell_type": "code",
   "execution_count": 1,
   "id": "982d92bb-22e1-48d9-b2ee-5b2a49d801ab",
   "metadata": {},
   "outputs": [],
   "source": [
    "from transformers import pipeline"
   ]
  },
  {
   "cell_type": "markdown",
   "id": "d88011a4-54d2-4262-beec-50ef45484098",
   "metadata": {},
   "source": [
    "### Sentiment analysis"
   ]
  },
  {
   "cell_type": "code",
   "execution_count": 3,
   "id": "678b66da-5e8b-4247-a012-1ada36fee1ce",
   "metadata": {},
   "outputs": [
    {
     "data": {
      "application/vnd.jupyter.widget-view+json": {
       "model_id": "30f828594ec14db39be04282fddf1d21",
       "version_major": 2,
       "version_minor": 0
      },
      "text/plain": [
       "Downloading:   0%|          | 0.00/629 [00:00<?, ?B/s]"
      ]
     },
     "metadata": {},
     "output_type": "display_data"
    },
    {
     "data": {
      "application/vnd.jupyter.widget-view+json": {
       "model_id": "1578f6ea6c1f4a15a153de720ee88321",
       "version_major": 2,
       "version_minor": 0
      },
      "text/plain": [
       "Downloading:   0%|          | 0.00/268M [00:00<?, ?B/s]"
      ]
     },
     "metadata": {},
     "output_type": "display_data"
    },
    {
     "data": {
      "application/vnd.jupyter.widget-view+json": {
       "model_id": "5245753d37fd4a068ac4cc78e07a6b14",
       "version_major": 2,
       "version_minor": 0
      },
      "text/plain": [
       "Downloading:   0%|          | 0.00/48.0 [00:00<?, ?B/s]"
      ]
     },
     "metadata": {},
     "output_type": "display_data"
    },
    {
     "data": {
      "application/vnd.jupyter.widget-view+json": {
       "model_id": "4afe9ec63c0c4fb7a868b56468177b76",
       "version_major": 2,
       "version_minor": 0
      },
      "text/plain": [
       "Downloading:   0%|          | 0.00/232k [00:00<?, ?B/s]"
      ]
     },
     "metadata": {},
     "output_type": "display_data"
    }
   ],
   "source": [
    "classifier = pipeline('sentiment-analysis')"
   ]
  },
  {
   "cell_type": "code",
   "execution_count": 4,
   "id": "7c2a1ed8-1447-4131-be33-d65ecd8cb96f",
   "metadata": {},
   "outputs": [
    {
     "data": {
      "text/plain": [
       "[{'label': 'POSITIVE', 'score': 0.9817631840705872}]"
      ]
     },
     "execution_count": 4,
     "metadata": {},
     "output_type": "execute_result"
    }
   ],
   "source": [
    "classifier(\"Ihave waiting for a course my whole life.\")"
   ]
  },
  {
   "cell_type": "code",
   "execution_count": 5,
   "id": "b50c579b-9d90-497b-9208-c5fc18d3e4d8",
   "metadata": {},
   "outputs": [
    {
     "data": {
      "text/plain": [
       "[{'label': 'POSITIVE', 'score': 0.9998581409454346},\n",
       " {'label': 'POSITIVE', 'score': 0.999816358089447}]"
      ]
     },
     "execution_count": 5,
     "metadata": {},
     "output_type": "execute_result"
    }
   ],
   "source": [
    "alist = [\"Covid is good\", \"I love covid\"]\n",
    "classifier(alist)"
   ]
  },
  {
   "cell_type": "markdown",
   "id": "95680316-7ebd-46e8-87ab-9bc83a88d544",
   "metadata": {},
   "source": [
    "### Zero-shot classification"
   ]
  },
  {
   "cell_type": "code",
   "execution_count": null,
   "id": "bc4125a4-698e-4795-b426-b62af460273a",
   "metadata": {},
   "outputs": [
    {
     "data": {
      "application/vnd.jupyter.widget-view+json": {
       "model_id": "be1c4635418c4f32afda951857234d3b",
       "version_major": 2,
       "version_minor": 0
      },
      "text/plain": [
       "Downloading:   0%|          | 0.00/1.15k [00:00<?, ?B/s]"
      ]
     },
     "metadata": {},
     "output_type": "display_data"
    },
    {
     "data": {
      "application/vnd.jupyter.widget-view+json": {
       "model_id": "73fa4b58f23a4485af5c732d4f535d96",
       "version_major": 2,
       "version_minor": 0
      },
      "text/plain": [
       "Downloading:   0%|          | 0.00/1.63G [00:00<?, ?B/s]"
      ]
     },
     "metadata": {},
     "output_type": "display_data"
    }
   ],
   "source": [
    "classifier = pipeline(\"zero-shot-classification\")"
   ]
  },
  {
   "cell_type": "code",
   "execution_count": null,
   "id": "405d8091-fcd6-4550-8f2c-f1446da5a934",
   "metadata": {},
   "outputs": [],
   "source": [
    "classifier(\"This is a sensitive topic on transport and libarary\", \n",
    "          candidate_labels=[\"education\", \"math\", \"business\"])"
   ]
  },
  {
   "cell_type": "markdown",
   "id": "8f150017-75b0-4cb2-a12d-f180b35f2692",
   "metadata": {},
   "source": [
    "### Text generation"
   ]
  },
  {
   "cell_type": "code",
   "execution_count": null,
   "id": "b576a28b-25d8-4e96-b027-b0f97bb5d41e",
   "metadata": {},
   "outputs": [],
   "source": [
    "generator = pipeline(\"text-generation\")"
   ]
  },
  {
   "cell_type": "code",
   "execution_count": null,
   "id": "cb943a42-ea57-4c43-9081-5c471fdbfc7d",
   "metadata": {},
   "outputs": [],
   "source": [
    "generator(\"In this notebook, we will\")"
   ]
  },
  {
   "cell_type": "code",
   "execution_count": null,
   "id": "95357c1c-f592-451e-98bc-36ee63371314",
   "metadata": {},
   "outputs": [],
   "source": [
    "# Using other model\n",
    "gen_gpt2 = pipeline(\"text-generation\", model=\"distilgpt2\")\n",
    "gen_gpt2(\"In this notebook, we will\", max_lenght=20)"
   ]
  },
  {
   "cell_type": "code",
   "execution_count": null,
   "id": "0f0ff374-7536-4b77-91a0-5c2789b5286c",
   "metadata": {},
   "outputs": [],
   "source": []
  }
 ],
 "metadata": {
  "kernelspec": {
   "display_name": "Python 3",
   "language": "python",
   "name": "python3"
  },
  "language_info": {
   "codemirror_mode": {
    "name": "ipython",
    "version": 3
   },
   "file_extension": ".py",
   "mimetype": "text/x-python",
   "name": "python",
   "nbconvert_exporter": "python",
   "pygments_lexer": "ipython3",
   "version": "3.8.5"
  }
 },
 "nbformat": 4,
 "nbformat_minor": 5
}
